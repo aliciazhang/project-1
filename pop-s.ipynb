{
 "cells": [
  {
   "cell_type": "code",
   "execution_count": 105,
   "metadata": {
    "scrolled": true
   },
   "outputs": [],
   "source": [
    "import pandas as pd\n",
    "import requests\n",
    "# !pip install xlrd\n",
    "\n",
    "# Upload data set\n",
    "SHEET = \"API_SP.POP.TOTL_DS2_en_csv_v2_10307762.csv\"\n",
    "\n",
    "# The following line goes on-line and turns the spreadsheet into a pandas DataFrame and skips the first four rows of given data:\n",
    "df = pd.read_csv(SHEET, skiprows= 4)\n",
    "\n",
    "#str\n",
    "# function for population statistics\n",
    "def population(year, age_range, gender, region):\n",
    "    url = \"http://api.worldbank.org/v2/country/\" + region + \"/indicator/SP.POP.\" + age_range + \".\" + gender + \"?format=json&date=\" + year\n",
    "    print(url)\n",
    "    response = requests.get(url).json()\n",
    "    indicators = response[1]\n",
    "    country_populations = []\n",
    "# for ______one particular variable in _______ list of variables; these are lists within lists\n",
    "    for indicator in indicators:\n",
    "        # looking for country in indicators\n",
    "        country = indicator['country']['id']\n",
    "        # looking for population value in indicators\n",
    "        population = indicator['value']\n",
    "        # to append = to enlarge \n",
    "        country_populations.append((country, population))\n",
    "    total_populations = sum([value for country, value in country_populations if value != None])\n",
    "    return total_populations\n"
   ]
  },
  {
   "cell_type": "code",
   "execution_count": 109,
   "metadata": {},
   "outputs": [
    {
     "name": "stdout",
     "output_type": "stream",
     "text": [
      "http://api.worldbank.org/v2/country/all/indicator/SP.POP.2529.FE?format=json&date=2015\n",
      "2311858259\n"
     ]
    }
   ],
   "source": [
    "# test\n",
    "populations = population(\"2015\", \"2529\", \"FE\", \"all\")\n",
    "print(populations)"
   ]
  },
  {
   "cell_type": "code",
   "execution_count": null,
   "metadata": {},
   "outputs": [],
   "source": []
  }
 ],
 "metadata": {
  "kernelspec": {
   "display_name": "Python 3",
   "language": "python",
   "name": "python3"
  },
  "language_info": {
   "codemirror_mode": {
    "name": "ipython",
    "version": 3
   },
   "file_extension": ".py",
   "mimetype": "text/x-python",
   "name": "python",
   "nbconvert_exporter": "python",
   "pygments_lexer": "ipython3",
   "version": "3.6.7"
  }
 },
 "nbformat": 4,
 "nbformat_minor": 2
}
