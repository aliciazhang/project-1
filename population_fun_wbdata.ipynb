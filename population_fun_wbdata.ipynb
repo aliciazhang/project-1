{
 "cells": [
  {
   "cell_type": "markdown",
   "metadata": {},
   "source": [
    "project-1 \n",
    "population Statistic\n",
    "population DataFrames\n",
    "population Pyramids\n",
    "Animated Population Pyramids\n",
    "Population Maps\n",
    "\n",
    "Data\n",
    "Using wbdata\n",
    "\n",
    "for data: year, people/males/females, world/region/country"
   ]
  },
  {
   "cell_type": "code",
   "execution_count": 36,
   "metadata": {},
   "outputs": [
    {
     "data": {
      "text/plain": [
       "64948440.0"
      ]
     },
     "execution_count": 36,
     "metadata": {},
     "output_type": "execute_result"
    }
   ],
   "source": [
    "\n",
    "import wbdata\n",
    "import numpy as np\n",
    "import pandas as pd \n",
    "\n",
    "\n",
    "def population(year = '2017',people='FE',age_range = '7579',country = 'WLD'):\n",
    "    \"\"\" this function takes country,year age_range,people:'FE','MA','TO'\n",
    "    returns the population of peopel who live in the country in the year with age \n",
    "    between the age_range\n",
    "    \"\"\"\n",
    "    variable = 'SP.POP.'+age_range+'.'+people\n",
    "    variable_labels = {variable: \"Population\"}\n",
    "    dat = wbdata.get_dataframe(variable_labels, country)\n",
    "    #get the dataframe from world bank.\n",
    "    dat.index = dat.index.astype(int)\n",
    "    year = int(year)\n",
    "    #convert the type into int\n",
    "    count = dat.at[year,'Population']\n",
    "    return count"
   ]
  },
  {
   "cell_type": "code",
   "execution_count": 8,
   "metadata": {},
   "outputs": [
    {
     "data": {
      "text/plain": [
       "12870257.0"
      ]
     },
     "execution_count": 8,
     "metadata": {},
     "output_type": "execute_result"
    }
   ],
   "source": [
    "population(year='2017', people = 'FE',age_range = '7579', country = 'CHN')\n",
    "## this function will return the female population in China 2017 with the age range 75-70"
   ]
  },
  {
   "cell_type": "code",
   "execution_count": 37,
   "metadata": {},
   "outputs": [
    {
     "data": {
      "text/plain": [
       "306249453.0"
      ]
     },
     "execution_count": 37,
     "metadata": {},
     "output_type": "execute_result"
    }
   ],
   "source": [
    "population(year='2016', people = 'MA',age_range = '1519', country = 'WLD')\n",
    "# it will return the male population with age between 15-19 in world in 2016 "
   ]
  },
  {
   "cell_type": "code",
   "execution_count": 55,
   "metadata": {},
   "outputs": [],
   "source": [
    "\n",
    "import pandas as pd\n",
    "def pop_data(year = ['2016','2017'], country = ['WLD']):\n",
    "    \"\"\"this function take year which may be a list and one country\n",
    "    the output is a dataframe, which is indexed by country and year\n",
    "    with columns providing the different age-sex group\"\"\"\n",
    "    \n",
    "    age_range = ['0004','0509','1014','1519',\n",
    "                 '2024','2529','3034','3539',\n",
    "                 '4044','4549','5054','5559',\n",
    "                 '6064','6569','7074','7579',\n",
    "                 '80UP']\n",
    "    def get_year_pop(year,country):\n",
    "        pop_FE = [population(year = year, people = 'FE',age_range = i, country=country) for i in age_range]\n",
    "        pop_MA = [population(year = year, people = 'MA',age_range = i, country=country) for i in age_range]\n",
    "        # list comprehension\n",
    "        pop_dat = pop_FE+pop_MA\n",
    "        return pop_dat\n",
    "\n",
    "    col_name = [i+'FE' for i in age_range] + [i+'MA' for i in age_range]\n",
    "    dat = pd.DataFrame(columns = col_name,\n",
    "                       index = [country*len(year),year])\n",
    "    \n",
    "    for country_i in country:\n",
    "        for year_i in year:\n",
    "            dat.loc[country_i, year_i] = get_year_pop(year_i,country_i)\n",
    "    # replace the value by row\n",
    "    return dat\n",
    "\n",
    "\n"
   ]
  },
  {
   "cell_type": "code",
   "execution_count": 56,
   "metadata": {},
   "outputs": [
    {
     "data": {
      "text/html": [
       "<div>\n",
       "<style scoped>\n",
       "    .dataframe tbody tr th:only-of-type {\n",
       "        vertical-align: middle;\n",
       "    }\n",
       "\n",
       "    .dataframe tbody tr th {\n",
       "        vertical-align: top;\n",
       "    }\n",
       "\n",
       "    .dataframe thead th {\n",
       "        text-align: right;\n",
       "    }\n",
       "</style>\n",
       "<table border=\"1\" class=\"dataframe\">\n",
       "  <thead>\n",
       "    <tr style=\"text-align: right;\">\n",
       "      <th></th>\n",
       "      <th></th>\n",
       "      <th>0004FE</th>\n",
       "      <th>0509FE</th>\n",
       "      <th>1014FE</th>\n",
       "      <th>1519FE</th>\n",
       "      <th>2024FE</th>\n",
       "      <th>2529FE</th>\n",
       "      <th>3034FE</th>\n",
       "      <th>3539FE</th>\n",
       "      <th>4044FE</th>\n",
       "      <th>4549FE</th>\n",
       "      <th>...</th>\n",
       "      <th>3539MA</th>\n",
       "      <th>4044MA</th>\n",
       "      <th>4549MA</th>\n",
       "      <th>5054MA</th>\n",
       "      <th>5559MA</th>\n",
       "      <th>6064MA</th>\n",
       "      <th>6569MA</th>\n",
       "      <th>7074MA</th>\n",
       "      <th>7579MA</th>\n",
       "      <th>80UPMA</th>\n",
       "    </tr>\n",
       "  </thead>\n",
       "  <tbody>\n",
       "    <tr>\n",
       "      <th rowspan=\"2\" valign=\"top\">WLD</th>\n",
       "      <th>2016</th>\n",
       "      <td>325948095</td>\n",
       "      <td>313401086</td>\n",
       "      <td>297513705</td>\n",
       "      <td>286801705</td>\n",
       "      <td>288725344</td>\n",
       "      <td>299141212</td>\n",
       "      <td>277329697</td>\n",
       "      <td>249389789</td>\n",
       "      <td>239886740</td>\n",
       "      <td>228535031</td>\n",
       "      <td>...</td>\n",
       "      <td>255721917</td>\n",
       "      <td>245598208</td>\n",
       "      <td>231062337</td>\n",
       "      <td>205279529</td>\n",
       "      <td>171361554</td>\n",
       "      <td>146002874</td>\n",
       "      <td>107749126</td>\n",
       "      <td>73451684</td>\n",
       "      <td>51528907</td>\n",
       "      <td>51079885</td>\n",
       "    </tr>\n",
       "    <tr>\n",
       "      <th>2017</th>\n",
       "      <td>326937386</td>\n",
       "      <td>316063452</td>\n",
       "      <td>300382891</td>\n",
       "      <td>287858778</td>\n",
       "      <td>287109865</td>\n",
       "      <td>297839524</td>\n",
       "      <td>283727043</td>\n",
       "      <td>253526812</td>\n",
       "      <td>240343273</td>\n",
       "      <td>231150172</td>\n",
       "      <td>...</td>\n",
       "      <td>259847867</td>\n",
       "      <td>245830428</td>\n",
       "      <td>233993742</td>\n",
       "      <td>209768271</td>\n",
       "      <td>176179378</td>\n",
       "      <td>148381780</td>\n",
       "      <td>113285604</td>\n",
       "      <td>76136197</td>\n",
       "      <td>52021968</td>\n",
       "      <td>53547881</td>\n",
       "    </tr>\n",
       "  </tbody>\n",
       "</table>\n",
       "<p>2 rows × 34 columns</p>\n",
       "</div>"
      ],
      "text/plain": [
       "             0004FE     0509FE     1014FE     1519FE     2024FE     2529FE  \\\n",
       "WLD 2016  325948095  313401086  297513705  286801705  288725344  299141212   \n",
       "    2017  326937386  316063452  300382891  287858778  287109865  297839524   \n",
       "\n",
       "             3034FE     3539FE     4044FE     4549FE    ...        3539MA  \\\n",
       "WLD 2016  277329697  249389789  239886740  228535031    ...     255721917   \n",
       "    2017  283727043  253526812  240343273  231150172    ...     259847867   \n",
       "\n",
       "             4044MA     4549MA     5054MA     5559MA     6064MA     6569MA  \\\n",
       "WLD 2016  245598208  231062337  205279529  171361554  146002874  107749126   \n",
       "    2017  245830428  233993742  209768271  176179378  148381780  113285604   \n",
       "\n",
       "            7074MA    7579MA    80UPMA  \n",
       "WLD 2016  73451684  51528907  51079885  \n",
       "    2017  76136197  52021968  53547881  \n",
       "\n",
       "[2 rows x 34 columns]"
      ]
     },
     "execution_count": 56,
     "metadata": {},
     "output_type": "execute_result"
    }
   ],
   "source": [
    "pop_data(year = ['2016','2017'],country = ['WLD'])\n",
    "# it will return a sex-age population dataframe from world in both 2016 and 2017"
   ]
  }
 ],
 "metadata": {
  "kernelspec": {
   "display_name": "Python 3",
   "language": "python",
   "name": "python3"
  },
  "language_info": {
   "codemirror_mode": {
    "name": "ipython",
    "version": 3
   },
   "file_extension": ".py",
   "mimetype": "text/x-python",
   "name": "python",
   "nbconvert_exporter": "python",
   "pygments_lexer": "ipython3",
   "version": "3.6.5"
  }
 },
 "nbformat": 4,
 "nbformat_minor": 2
}
