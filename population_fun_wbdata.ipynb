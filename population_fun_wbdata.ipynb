{
 "cells": [
  {
   "cell_type": "markdown",
   "metadata": {},
   "source": [
    "project-1 \n",
    "population Statistic\n",
    "population DataFrames\n",
    "population Pyramids\n",
    "Animated Population Pyramids\n",
    "Population Maps\n",
    "\n",
    "Data\n",
    "Using wbdata\n",
    "\n",
    "for data: year, people/males/females, world/region/country"
   ]
  },
  {
   "cell_type": "code",
   "execution_count": 18,
   "metadata": {},
   "outputs": [
    {
     "data": {
      "text/plain": [
       "64948440.0"
      ]
     },
     "execution_count": 18,
     "metadata": {},
     "output_type": "execute_result"
    }
   ],
   "source": [
    "\n",
    "import wbdata\n",
    "import numpy as np\n",
    "import pandas as pd \n",
    "\n",
    "\n",
    "def population(year = '2017',people='FE',age_range = '7579',country = 'WLD'):\n",
    "    \"\"\" this function takes country,year age_range,people\n",
    "    returns the population of peopel who live in the country in the year with age \n",
    "    between the age_range\n",
    "    \"\"\"\n",
    "    SOURCE = 40 #Population estimates and projections\n",
    "    variable = 'SP.POP.'+age_range+'.'+people\n",
    "    variable_labels = {variable: \"Population\"}\n",
    "    dat = wbdata.get_dataframe(variable_labels, country)\n",
    "    dat.index = dat.index.astype(int)\n",
    "    year = int(year)\n",
    "    pop = dat.at[year,'Population']\n",
    "    return pop\n",
    "\n",
    "population(year='2017', people = 'FE',age_range = '7579', country = 'WLD')\n"
   ]
  },
  {
   "cell_type": "code",
   "execution_count": 1,
   "metadata": {},
   "outputs": [
    {
     "data": {
      "text/plain": [
       "'12'"
      ]
     },
     "execution_count": 1,
     "metadata": {},
     "output_type": "execute_result"
    }
   ],
   "source": [
    "population(year='2017', people = 'FE',age_range = '7579', country = 'CHN')\n",
    "## this function will return the female population in China 2017 with the age range 75-70"
   ]
  },
  {
   "cell_type": "code",
   "execution_count": null,
   "metadata": {},
   "outputs": [],
   "source": [
    "    dat.index = dat.index.astype(int)\n",
    "    year = int(year)\n",
    "    pop = dat.at[year,variable]"
   ]
  }
 ],
 "metadata": {
  "kernelspec": {
   "display_name": "Python 3",
   "language": "python",
   "name": "python3"
  },
  "language_info": {
   "codemirror_mode": {
    "name": "ipython",
    "version": 3
   },
   "file_extension": ".py",
   "mimetype": "text/x-python",
   "name": "python",
   "nbconvert_exporter": "python",
   "pygments_lexer": "ipython3",
   "version": "3.6.5"
  }
 },
 "nbformat": 4,
 "nbformat_minor": 2
}
